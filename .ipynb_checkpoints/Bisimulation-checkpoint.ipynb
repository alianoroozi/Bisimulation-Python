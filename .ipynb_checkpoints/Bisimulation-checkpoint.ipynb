{
 "cells": [
  {
   "cell_type": "markdown",
   "metadata": {},
   "source": [
    "# Imports"
   ]
  },
  {
   "cell_type": "code",
   "execution_count": 1,
   "metadata": {},
   "outputs": [],
   "source": [
    "import networkx as nx\n",
    "import matplotlib.pyplot as plt\n",
    "from networkx.drawing.nx_agraph import write_dot, graphviz_layout\n",
    "\n",
    "%matplotlib inline\n",
    "%config IPCompleter.greedy=True"
   ]
  },
  {
   "cell_type": "markdown",
   "metadata": {},
   "source": [
    "# Read the Input Files (Explicit Model) and Construct the Graph"
   ]
  },
  {
   "cell_type": "code",
   "execution_count": 2,
   "metadata": {},
   "outputs": [],
   "source": [
    "file_name = 'model_files/P-Sched-Effect-Uni'\n",
    "\n",
    "\n",
    "# read .tra file (transition matrix) to determine transitions\n",
    "with open(file_name+'.tra', 'rb') as tra:\n",
    "    next(tra, '')   # skip the first line\n",
    "    G = nx.read_edgelist(tra, data=[('probability', float)], create_using= nx.DiGraph())\n",
    "\n",
    "# read .sta file to determine states    \n",
    "lines = [line.rstrip('\\n') for line in open(file_name + '.sta')]\n",
    "del lines[0] # skip the first line\n",
    "for li in lines:    \n",
    "    if li != '':\n",
    "        state_num = li.split(\":\")[0]\n",
    "        state_data = li.split(\":\")[1].split(\",\")[0][1:] # state label (value of the variable l)\n",
    "        G.add_node(state_num, data=state_data)\n",
    "            \n",
    "# state labels    \n",
    "node_labels = nx.get_node_attributes(G, 'data')    \n",
    "\n",
    "# For more information on explicit model files, please see:\n",
    "# http://www.prismmodelchecker.org/manual/Appendices/ExplicitModelFiles"
   ]
  },
  {
   "cell_type": "markdown",
   "metadata": {},
   "source": [
    "# Draw the Graph"
   ]
  },
  {
   "cell_type": "code",
   "execution_count": 3,
   "metadata": {},
   "outputs": [
    {
     "data": {
      "image/png": "[encoded data removed]",
      "text/plain": [
       "<Figure size 432x288 with 1 Axes>"
      ]
     },
     "metadata": {},
     "output_type": "display_data"
    }
   ],
   "source": [
    "def draw_graph(G):\n",
    "    pos = graphviz_layout(G, prog='dot')\n",
    "    nx.draw_networkx(G, pos, with_labels=True, arrows=True)\n",
    "\n",
    "draw_graph(G)\n",
    "\n",
    "# write_dot(G, file_name+'.dot') # save in dot format (use xdot to plot the graph)\n",
    "# plt.savefig('nx_test.pdf') # save in pdf format"
   ]
  },
  {
   "cell_type": "markdown",
   "metadata": {},
   "source": [
    "# Kanellakis Smolka Algorithm for Computing Strong Bisimulation"
   ]
  },
  {
   "cell_type": "code",
   "execution_count": 4,
   "metadata": {},
   "outputs": [
    {
     "data": {
      "text/plain": [
       "[frozenset({'22'}),\n",
       " frozenset({'9'}),\n",
       " frozenset({'15'}),\n",
       " frozenset({'1', '4', '6', '8'}),\n",
       " frozenset({'2'}),\n",
       " frozenset({'11'}),\n",
       " frozenset({'19'}),\n",
       " frozenset({'17', '18', '20', '21'}),\n",
       " frozenset({'0'}),\n",
       " frozenset({'7'}),\n",
       " frozenset({'3'}),\n",
       " frozenset({'5'}),\n",
       " frozenset({'13'}),\n",
       " frozenset({'10', '12', '14', '16'})]"
      ]
     },
     "execution_count": 4,
     "metadata": {},
     "output_type": "execute_result"
    }
   ],
   "source": [
    "# Kanellakis Smolka algorithm is used to compute strong bisimulation equivalence classes.\n",
    "# For more info on strong bisimulation, please see: Section 7.1 of \"Principles of model checking\", Christel Baier and Joost-Pieter Katoen\n",
    "# For more info on Kanellakis Smolka algorithm, please see: Section 7.3 of \"Principles of model checking\", Christel Baier and Joost-Pieter Katoen\n",
    "\n",
    "\n",
    "def initial_partition(s1, s2):\n",
    "    \"\"\"\n",
    "    return true if labels of s1 and s2 are equal\n",
    "    \"\"\"\n",
    "    return node_labels[s1] == node_labels[s2]\n",
    "\n",
    "def pre(G, C):\n",
    "    \"\"\"\n",
    "    return a list of predecessors of nodes of C.\n",
    "    nodes in a self-loop are not considered as a predecessor.\n",
    "    \"\"\"\n",
    "    pre = set() # empty set\n",
    "    for s in C: # C is a set of nodes\n",
    "        for u in G.predecessors(s):\n",
    "            if u != s:\n",
    "                pre.add(u)\n",
    "            \n",
    "    return pre\n",
    "\n",
    "def refine(Pi, C):\n",
    "    \"\"\"\n",
    "    Refine each block B of Pi into B&pre(C) and B-pre(C).\n",
    "    Pi is a list of sets\n",
    "    \"\"\"\n",
    "    pre_C = pre(G, C)\n",
    "    for B in Pi:\n",
    "        inter = B & pre_C\n",
    "        diff = B - pre_C\n",
    "        if len(inter) != 0 and len(diff) != 0:\n",
    "            Pi.remove(B)\n",
    "            Pi.append(inter)\n",
    "            Pi.append(diff)\n",
    "    return Pi\n",
    "        \n",
    "def Kanellakis_Smolka(G):\n",
    "    Q = nx.quotient_graph(G, partition=initial_partition)\n",
    "    Pi_AP = [n for n in Q]\n",
    "    Pi = Pi_AP\n",
    "    Pi_old = []\n",
    "    while Pi_old != Pi:\n",
    "        Pi_old = Pi.copy()\n",
    "        for C in Pi_old:\n",
    "            refine(Pi, C)\n",
    "    return Pi\n",
    "\n",
    "Kanellakis_Smolka(G)\n"
   ]
  },
  {
   "cell_type": "markdown",
   "metadata": {},
   "source": [
    "# Groote Vaandrager Algorithm for Computing Weak (Stutter) Bisimulation"
   ]
  },
  {
   "cell_type": "code",
   "execution_count": 5,
   "metadata": {},
   "outputs": [
    {
     "data": {
      "text/plain": [
       "[frozenset({'22'}),\n",
       " frozenset({'div'}),\n",
       " frozenset({'17', '18', '19', '20', '21'}),\n",
       " frozenset({'9'}),\n",
       " frozenset({'15'}),\n",
       " frozenset({'10', '11', '12', '13', '14', '16'}),\n",
       " frozenset({'2'}),\n",
       " frozenset({'0'}),\n",
       " frozenset({'7'}),\n",
       " frozenset({'1', '3', '4', '5', '6', '8'})]"
      ]
     },
     "execution_count": 5,
     "metadata": {},
     "output_type": "execute_result"
    }
   ],
   "source": [
    "# Groote Vaandrager algorithm is used to compute weak (stutter) bisimulation equivalence classes.\n",
    "# For more info on weak bisimulation and Groote Vaandrager algorithm, please see: Section 7.8 of \"Principles of model checking\", Christel Baier and Joost-Pieter Katoen\n",
    "\n",
    "\n",
    "def pre_star(G, B, C):\n",
    "    \"\"\"\n",
    "    Return states in B that have a simple path to a state in C.\n",
    "    All nodes of the path belong to B, except the last node.\n",
    "    B and C are sets of nodes and are disjoint\n",
    "    \"\"\"\n",
    "    pre_s = set() # empty set\n",
    "    for b in B:\n",
    "        for c in C:\n",
    "            if b not in pre_s:\n",
    "                for p in nx.all_simple_paths(G, b, c):\n",
    "                    if set(p[:-1]).issubset(B):\n",
    "                        pre_s |= set(p[:-1])\n",
    "            \n",
    "    return pre_s\n",
    "\n",
    "def is_in_stutter_cycle(G, source):\n",
    "    \"\"\"\n",
    "    Check if node s is in a stutter cycle or not\n",
    "    \"\"\"\n",
    "    if source not in G:\n",
    "        return False\n",
    "    post_source = [u for u in iter(G[source])]\n",
    "    if post_source == [source]:\n",
    "        return True\n",
    "    visited = set()\n",
    "    visited.add(source)\n",
    "    stack = [source]\n",
    "    while stack:\n",
    "        s = stack.pop()\n",
    "        post_s = [u for u in iter(G[s]) if u != s]\n",
    "        for w in post_s:\n",
    "            if node_labels[w] == node_labels[source]:\n",
    "                if w == source:\n",
    "                    return True\n",
    "                elif w != s:\n",
    "                    if w not in visited:\n",
    "                        visited.add(w)\n",
    "                        stack.append(w)        \n",
    "    return False\n",
    "\n",
    "def divergence_sensitive_expansion(G):\n",
    "    G.add_node('div', data='div')\n",
    "    node_labels['div'] = 'div'\n",
    "    for s in G:\n",
    "        if is_in_stutter_cycle(G, s):\n",
    "            G.add_edge(s, 'div', probability='0.0001')\n",
    "    G.add_edge('div', 'div', probability='1.0')\n",
    "    \n",
    "def Groote_Vaandrager(G):\n",
    "    Q = nx.quotient_graph(G, partition=initial_partition)\n",
    "    Pi_AP = [n for n in Q]\n",
    "    Pi = Pi_AP\n",
    "    Pi_old = []\n",
    "    while Pi_old != Pi:\n",
    "        Pi_old = Pi.copy()\n",
    "        removed = False\n",
    "        for C in Pi_old:\n",
    "            for B in Pi_old:\n",
    "                if B != C:\n",
    "                    pre_s = pre_star(G, B, C)\n",
    "                    inter = B & pre_s\n",
    "                    diff = B - pre_s\n",
    "                    if len(inter) != 0 and len(diff) != 0:\n",
    "                        Pi.remove(B)\n",
    "                        Pi.append(inter)\n",
    "                        Pi.append(diff)\n",
    "                        removed = True\n",
    "                        break\n",
    "            if removed:\n",
    "                break\n",
    "    return Pi\n",
    "    \n",
    "divergence_sensitive_expansion(G)\n",
    "Groote_Vaandrager(G)"
   ]
  }
 ],
 "metadata": {
  "kernelspec": {
   "display_name": "Python 3",
   "language": "python",
   "name": "python3"
  },
  "language_info": {
   "codemirror_mode": {
    "name": "ipython",
    "version": 3
   },
   "file_extension": ".py",
   "mimetype": "text/x-python",
   "name": "python",
   "nbconvert_exporter": "python",
   "pygments_lexer": "ipython3",
   "version": "3.5.2"
  }
 },
 "nbformat": 4,
 "nbformat_minor": 2
}
